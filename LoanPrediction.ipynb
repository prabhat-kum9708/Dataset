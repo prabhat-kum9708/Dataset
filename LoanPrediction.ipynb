{
 "cells": [
  {
   "cell_type": "code",
   "execution_count": 1,
   "id": "00a99949-a015-4d82-80a1-97788032a8db",
   "metadata": {},
   "outputs": [],
   "source": [
    "import numpy as np\n",
    "import pandas as pd\n",
    "import matplotlib.pyplot as plt\n",
    "import seaborn as sns\n",
    "import joblib\n",
    "import os\n",
    "\n",
    "from sklearn.model_selection import train_test_split, GridSearchCV, StratifiedKFold\n",
    "from sklearn.preprocessing import StandardScaler\n",
    "from sklearn.linear_model import LogisticRegression\n",
    "from sklearn.ensemble import RandomForestClassifier, GradientBoostingClassifier\n",
    "from sklearn.metrics import accuracy_score, confusion_matrix, classification_report, roc_auc_score, roc_curve\n",
    "from xgboost import XGBClassifier"
   ]
  },
  {
   "cell_type": "code",
   "execution_count": 2,
   "id": "068f8b53-5c62-4f61-b213-3b745ad46877",
   "metadata": {},
   "outputs": [],
   "source": [
    "df = pd.read_csv('loan.csv')"
   ]
  },
  {
   "cell_type": "code",
   "execution_count": 3,
   "id": "2ed5fa6c-8c6b-4c36-96a8-b141a0bbf4b5",
   "metadata": {},
   "outputs": [
    {
     "name": "stdout",
     "output_type": "stream",
     "text": [
      "<class 'pandas.core.frame.DataFrame'>\n",
      "RangeIndex: 614 entries, 0 to 613\n",
      "Data columns (total 13 columns):\n",
      " #   Column             Non-Null Count  Dtype  \n",
      "---  ------             --------------  -----  \n",
      " 0   Loan_ID            614 non-null    object \n",
      " 1   Gender             601 non-null    object \n",
      " 2   Married            611 non-null    object \n",
      " 3   Dependents         599 non-null    object \n",
      " 4   Education          614 non-null    object \n",
      " 5   Self_Employed      582 non-null    object \n",
      " 6   ApplicantIncome    614 non-null    int64  \n",
      " 7   CoapplicantIncome  614 non-null    float64\n",
      " 8   LoanAmount         592 non-null    float64\n",
      " 9   Loan_Amount_Term   600 non-null    float64\n",
      " 10  Credit_History     564 non-null    float64\n",
      " 11  Property_Area      614 non-null    object \n",
      " 12  Loan_Status        614 non-null    object \n",
      "dtypes: float64(4), int64(1), object(8)\n",
      "memory usage: 62.5+ KB\n",
      "None\n",
      "    Loan_ID Gender Married Dependents     Education Self_Employed  \\\n",
      "0  LP001002   Male      No          0      Graduate            No   \n",
      "1  LP001003   Male     Yes          1      Graduate            No   \n",
      "2  LP001005   Male     Yes          0      Graduate           Yes   \n",
      "3  LP001006   Male     Yes          0  Not Graduate            No   \n",
      "4  LP001008   Male      No          0      Graduate            No   \n",
      "\n",
      "   ApplicantIncome  CoapplicantIncome  LoanAmount  Loan_Amount_Term  \\\n",
      "0             5849                0.0         NaN             360.0   \n",
      "1             4583             1508.0       128.0             360.0   \n",
      "2             3000                0.0        66.0             360.0   \n",
      "3             2583             2358.0       120.0             360.0   \n",
      "4             6000                0.0       141.0             360.0   \n",
      "\n",
      "   Credit_History Property_Area Loan_Status  \n",
      "0             1.0         Urban           Y  \n",
      "1             1.0         Rural           N  \n",
      "2             1.0         Urban           Y  \n",
      "3             1.0         Urban           Y  \n",
      "4             1.0         Urban           Y  \n"
     ]
    }
   ],
   "source": [
    "print(df.info())\n",
    "print(df.head())"
   ]
  },
  {
   "cell_type": "code",
   "execution_count": 4,
   "id": "bafdf115-9931-4496-85d7-cf4b735dffcb",
   "metadata": {},
   "outputs": [],
   "source": [
    "df['Gender'].fillna(df['Gender'].mode()[0], inplace=True)\n",
    "df['Married'].fillna(df['Married'].mode()[0], inplace=True)\n",
    "df['Dependents'].fillna(df['Dependents'].mode()[0], inplace=True)\n",
    "df['Self_Employed'].fillna(df['Self_Employed'].mode()[0], inplace=True)\n",
    "df['LoanAmount'].fillna(df['LoanAmount'].median(), inplace=True)\n",
    "df['Loan_Amount_Term'].fillna(df['Loan_Amount_Term'].mode()[0], inplace=True)\n",
    "df['Credit_History'].fillna(df['Credit_History'].mode()[0], inplace=True)"
   ]
  },
  {
   "cell_type": "code",
   "execution_count": 5,
   "id": "297f6cb5-1c12-4964-abdd-8e950159781a",
   "metadata": {},
   "outputs": [],
   "source": [
    "df['Gender'] = df['Gender'].map({'Male': 1, 'Female': 0})\n",
    "df['Married'] = df['Married'].map({'Yes': 1, 'No': 0})\n",
    "df['Education'] = df['Education'].map({'Graduate': 1, 'Not Graduate': 0})\n",
    "df['Self_Employed'] = df['Self_Employed'].map({'Yes': 1, 'No': 0})\n",
    "df['Property_Area'] = df['Property_Area'].map({'Urban': 2, 'Semiurban': 1, 'Rural': 0})\n",
    "df['Loan_Status'] = df['Loan_Status'].map({'Y': 1, 'N': 0})\n",
    "df['Dependents'] = df['Dependents'].replace('3+', 3).astype(int)"
   ]
  },
  {
   "cell_type": "code",
   "execution_count": 6,
   "id": "10ac7c1b-1ebe-4234-8de2-b418cd41a91a",
   "metadata": {},
   "outputs": [],
   "source": [
    "df['Total_Income'] = df['ApplicantIncome'] + df['CoapplicantIncome']\n",
    "df['EMI'] = df['LoanAmount'] / df['Loan_Amount_Term']\n",
    "df.drop(columns=['Loan_ID'], inplace=True)"
   ]
  },
  {
   "cell_type": "code",
   "execution_count": 7,
   "id": "a3981dd3-c203-482d-8198-0c39f6102fcb",
   "metadata": {},
   "outputs": [],
   "source": [
    "X = df.drop(columns=['Loan_Status'])\n",
    "y = df['Loan_Status']\n",
    "\n",
    "X_train, X_test, y_train, y_test = train_test_split(X, y, test_size=0.2, random_state=42, stratify=y)"
   ]
  },
  {
   "cell_type": "code",
   "execution_count": 8,
   "id": "8c802bc9-a1bc-46b4-851a-80a5262927ab",
   "metadata": {},
   "outputs": [],
   "source": [
    "scaler = StandardScaler()\n",
    "X_train = scaler.fit_transform(X_train)\n",
    "X_test = scaler.transform(X_test)"
   ]
  },
  {
   "cell_type": "code",
   "execution_count": 9,
   "id": "44e75e68-580f-4ce7-b8e1-2cdd20f444fb",
   "metadata": {},
   "outputs": [
    {
     "data": {
      "text/plain": [
       "['models/scaler.pkl']"
      ]
     },
     "execution_count": 9,
     "metadata": {},
     "output_type": "execute_result"
    }
   ],
   "source": [
    "model_dir = 'models'\n",
    "model_path = os.path.join(model_dir, 'scaler.pkl')\n",
    "os.makedirs(model_dir, exist_ok=True)\n",
    "joblib.dump(scaler, model_path)"
   ]
  },
  {
   "cell_type": "code",
   "execution_count": 10,
   "id": "b207bb44-66a0-40d8-9db7-6686bf82df5e",
   "metadata": {},
   "outputs": [],
   "source": [
    "def evaluate_model(model, X_test, y_test, model_name):\n",
    "    y_pred = model.predict(X_test)\n",
    "    accuracy = accuracy_score(y_test, y_pred)\n",
    "    roc_auc = roc_auc_score(y_test, model.predict_proba(X_test)[:, 1])\n",
    "    print(f\"{model_name} Accuracy: {accuracy}\")\n",
    "    print(f\"{model_name} ROC-AUC Score: {roc_auc}\")\n",
    "    print(\"Classification Report:\\n\", classification_report(y_test, y_pred))\n",
    "    print(\"Confusion Matrix:\\n\", confusion_matrix(y_test, y_pred))\n",
    "    return accuracy, roc_auc"
   ]
  },
  {
   "cell_type": "code",
   "execution_count": 11,
   "id": "7de5a613-b007-4e01-8a6c-7852b98b1b31",
   "metadata": {},
   "outputs": [
    {
     "name": "stdout",
     "output_type": "stream",
     "text": [
      "Logistic Regression Accuracy: 0.8617886178861789\n",
      "Logistic Regression ROC-AUC Score: 0.8024767801857585\n",
      "Classification Report:\n",
      "               precision    recall  f1-score   support\n",
      "\n",
      "           0       0.96      0.58      0.72        38\n",
      "           1       0.84      0.99      0.91        85\n",
      "\n",
      "    accuracy                           0.86       123\n",
      "   macro avg       0.90      0.78      0.81       123\n",
      "weighted avg       0.88      0.86      0.85       123\n",
      "\n",
      "Confusion Matrix:\n",
      " [[22 16]\n",
      " [ 1 84]]\n"
     ]
    },
    {
     "data": {
      "text/plain": [
       "(0.8617886178861789, 0.8024767801857585)"
      ]
     },
     "execution_count": 11,
     "metadata": {},
     "output_type": "execute_result"
    }
   ],
   "source": [
    "log_reg = LogisticRegression(random_state=42, max_iter=200)\n",
    "log_reg.fit(X_train, y_train)\n",
    "evaluate_model(log_reg, X_test, y_test, \"Logistic Regression\")"
   ]
  },
  {
   "cell_type": "code",
   "execution_count": 12,
   "id": "b4c6621a-df0b-4cce-bd68-f07d3bfc269f",
   "metadata": {},
   "outputs": [
    {
     "name": "stdout",
     "output_type": "stream",
     "text": [
      "Random Forest Accuracy: 0.8211382113821138\n",
      "Random Forest ROC-AUC Score: 0.8294117647058824\n",
      "Classification Report:\n",
      "               precision    recall  f1-score   support\n",
      "\n",
      "           0       0.77      0.61      0.68        38\n",
      "           1       0.84      0.92      0.88        85\n",
      "\n",
      "    accuracy                           0.82       123\n",
      "   macro avg       0.80      0.76      0.78       123\n",
      "weighted avg       0.82      0.82      0.81       123\n",
      "\n",
      "Confusion Matrix:\n",
      " [[23 15]\n",
      " [ 7 78]]\n"
     ]
    },
    {
     "data": {
      "text/plain": [
       "(0.8211382113821138, 0.8294117647058824)"
      ]
     },
     "execution_count": 12,
     "metadata": {},
     "output_type": "execute_result"
    }
   ],
   "source": [
    "rf_clf = RandomForestClassifier(random_state=42)\n",
    "rf_clf.fit(X_train, y_train)\n",
    "evaluate_model(rf_clf, X_test, y_test, \"Random Forest\")"
   ]
  },
  {
   "cell_type": "code",
   "execution_count": 13,
   "id": "aa7262da-db83-4a30-9ad4-df421dbec1fc",
   "metadata": {},
   "outputs": [
    {
     "name": "stdout",
     "output_type": "stream",
     "text": [
      "Gradient Boosting Accuracy: 0.8048780487804879\n",
      "Gradient Boosting ROC-AUC Score: 0.7473684210526316\n",
      "Classification Report:\n",
      "               precision    recall  f1-score   support\n",
      "\n",
      "           0       0.73      0.58      0.65        38\n",
      "           1       0.83      0.91      0.87        85\n",
      "\n",
      "    accuracy                           0.80       123\n",
      "   macro avg       0.78      0.74      0.76       123\n",
      "weighted avg       0.80      0.80      0.80       123\n",
      "\n",
      "Confusion Matrix:\n",
      " [[22 16]\n",
      " [ 8 77]]\n"
     ]
    },
    {
     "data": {
      "text/plain": [
       "(0.8048780487804879, 0.7473684210526316)"
      ]
     },
     "execution_count": 13,
     "metadata": {},
     "output_type": "execute_result"
    }
   ],
   "source": [
    "gb_clf = GradientBoostingClassifier(random_state=42)\n",
    "gb_clf.fit(X_train, y_train)\n",
    "evaluate_model(gb_clf, X_test, y_test, \"Gradient Boosting\")"
   ]
  },
  {
   "cell_type": "code",
   "execution_count": 14,
   "id": "a210a172-a99d-4278-aa6a-cf3405ea125e",
   "metadata": {},
   "outputs": [
    {
     "name": "stdout",
     "output_type": "stream",
     "text": [
      "XGBoost Accuracy: 0.7886178861788617\n",
      "XGBoost ROC-AUC Score: 0.7972136222910217\n",
      "Classification Report:\n",
      "               precision    recall  f1-score   support\n",
      "\n",
      "           0       0.68      0.61      0.64        38\n",
      "           1       0.83      0.87      0.85        85\n",
      "\n",
      "    accuracy                           0.79       123\n",
      "   macro avg       0.75      0.74      0.74       123\n",
      "weighted avg       0.78      0.79      0.79       123\n",
      "\n",
      "Confusion Matrix:\n",
      " [[23 15]\n",
      " [11 74]]\n"
     ]
    },
    {
     "data": {
      "text/plain": [
       "(0.7886178861788617, 0.7972136222910217)"
      ]
     },
     "execution_count": 14,
     "metadata": {},
     "output_type": "execute_result"
    }
   ],
   "source": [
    "xgb_clf = XGBClassifier(random_state=42)\n",
    "xgb_clf.fit(X_train, y_train)\n",
    "evaluate_model(xgb_clf, X_test, y_test, \"XGBoost\")"
   ]
  },
  {
   "cell_type": "code",
   "execution_count": 15,
   "id": "547cf4c3-577e-40e6-b4e1-542b76e89b12",
   "metadata": {},
   "outputs": [],
   "source": [
    "def hyperparameter_tuning(model, param_grid, X_train, y_train):\n",
    "    grid_search = GridSearchCV(estimator=model, param_grid=param_grid, cv=StratifiedKFold(5), n_jobs=-1, scoring='accuracy')\n",
    "    grid_search.fit(X_train, y_train)\n",
    "    return grid_search.best_estimator_"
   ]
  },
  {
   "cell_type": "code",
   "execution_count": 16,
   "id": "4862714c-02a7-4256-9eab-c86ff67bf802",
   "metadata": {},
   "outputs": [],
   "source": [
    "param_grid_log_reg = {'C': [0.01, 0.1, 1, 10, 100], 'solver': ['newton-cg', 'lbfgs', 'liblinear']}\n",
    "param_grid_rf = {'n_estimators': [100, 200, 300], 'max_depth': [None, 10, 20, 30], 'min_samples_split': [2, 5, 10], 'min_samples_leaf': [1, 2, 4]}\n",
    "param_grid_gb = {'n_estimators': [100, 200], 'learning_rate': [0.01, 0.1], 'max_depth': [3, 4, 5]}\n",
    "param_grid_xgb = {'n_estimators': [100, 200, 300], 'learning_rate': [0.01, 0.1, 0.2], 'max_depth': [3, 4, 5], 'subsample': [0.7, 0.8, 0.9], 'colsample_bytree': [0.7, 0.8, 0.9]}"
   ]
  },
  {
   "cell_type": "code",
   "execution_count": 17,
   "id": "3194e48e-c257-4482-b716-9135a2c35d9b",
   "metadata": {},
   "outputs": [
    {
     "name": "stdout",
     "output_type": "stream",
     "text": [
      "Best Logistic Regression Accuracy: 0.8536585365853658\n",
      "Best Logistic Regression ROC-AUC Score: 0.8015479876160991\n",
      "Classification Report:\n",
      "               precision    recall  f1-score   support\n",
      "\n",
      "           0       0.95      0.55      0.70        38\n",
      "           1       0.83      0.99      0.90        85\n",
      "\n",
      "    accuracy                           0.85       123\n",
      "   macro avg       0.89      0.77      0.80       123\n",
      "weighted avg       0.87      0.85      0.84       123\n",
      "\n",
      "Confusion Matrix:\n",
      " [[21 17]\n",
      " [ 1 84]]\n"
     ]
    },
    {
     "data": {
      "text/plain": [
       "['models/best_log_reg_model.pkl']"
      ]
     },
     "execution_count": 17,
     "metadata": {},
     "output_type": "execute_result"
    }
   ],
   "source": [
    "best_log_reg = hyperparameter_tuning(log_reg, param_grid_log_reg, X_train, y_train)\n",
    "evaluate_model(best_log_reg, X_test, y_test, \"Best Logistic Regression\")\n",
    "joblib.dump(best_log_reg, os.path.join('models', 'best_log_reg_model.pkl'))"
   ]
  },
  {
   "cell_type": "code",
   "execution_count": 18,
   "id": "cd6e18e6-7e95-4e05-ab78-5513a5c99e92",
   "metadata": {},
   "outputs": [
    {
     "name": "stdout",
     "output_type": "stream",
     "text": [
      "Best Random Forest Accuracy: 0.8536585365853658\n",
      "Best Random Forest ROC-AUC Score: 0.8089783281733747\n",
      "Classification Report:\n",
      "               precision    recall  f1-score   support\n",
      "\n",
      "           0       0.92      0.58      0.71        38\n",
      "           1       0.84      0.98      0.90        85\n",
      "\n",
      "    accuracy                           0.85       123\n",
      "   macro avg       0.88      0.78      0.81       123\n",
      "weighted avg       0.86      0.85      0.84       123\n",
      "\n",
      "Confusion Matrix:\n",
      " [[22 16]\n",
      " [ 2 83]]\n"
     ]
    },
    {
     "data": {
      "text/plain": [
       "['models/best_rf_clf_model.pkl']"
      ]
     },
     "execution_count": 18,
     "metadata": {},
     "output_type": "execute_result"
    }
   ],
   "source": [
    "best_rf_clf = hyperparameter_tuning(rf_clf, param_grid_rf, X_train, y_train)\n",
    "evaluate_model(best_rf_clf, X_test, y_test, \"Best Random Forest\")\n",
    "joblib.dump(best_rf_clf, os.path.join('models', 'best_rf_clf_model.pkl'))"
   ]
  },
  {
   "cell_type": "code",
   "execution_count": 19,
   "id": "f77547ed-e76c-4b23-9e7c-6cf5d765cdcc",
   "metadata": {},
   "outputs": [
    {
     "name": "stdout",
     "output_type": "stream",
     "text": [
      "Best Gradient Boosting Accuracy: 0.8373983739837398\n",
      "Best Gradient Boosting ROC-AUC Score: 0.8089783281733747\n",
      "Classification Report:\n",
      "               precision    recall  f1-score   support\n",
      "\n",
      "           0       0.91      0.53      0.67        38\n",
      "           1       0.82      0.98      0.89        85\n",
      "\n",
      "    accuracy                           0.84       123\n",
      "   macro avg       0.87      0.75      0.78       123\n",
      "weighted avg       0.85      0.84      0.82       123\n",
      "\n",
      "Confusion Matrix:\n",
      " [[20 18]\n",
      " [ 2 83]]\n"
     ]
    },
    {
     "data": {
      "text/plain": [
       "['models/best_gb_clf_model.pkl']"
      ]
     },
     "execution_count": 19,
     "metadata": {},
     "output_type": "execute_result"
    }
   ],
   "source": [
    "best_gb_clf = hyperparameter_tuning(gb_clf, param_grid_gb, X_train, y_train)\n",
    "evaluate_model(best_gb_clf, X_test, y_test, \"Best Gradient Boosting\")\n",
    "joblib.dump(best_gb_clf, os.path.join('models', 'best_gb_clf_model.pkl'))"
   ]
  },
  {
   "cell_type": "code",
   "execution_count": 20,
   "id": "7f117fe7-42e8-432c-a7aa-e67429de4f15",
   "metadata": {},
   "outputs": [
    {
     "name": "stdout",
     "output_type": "stream",
     "text": [
      "Best XGBoost Accuracy: 0.8455284552845529\n",
      "Best XGBoost ROC-AUC Score: 0.8003095975232198\n",
      "Classification Report:\n",
      "               precision    recall  f1-score   support\n",
      "\n",
      "           0       0.91      0.55      0.69        38\n",
      "           1       0.83      0.98      0.90        85\n",
      "\n",
      "    accuracy                           0.85       123\n",
      "   macro avg       0.87      0.76      0.79       123\n",
      "weighted avg       0.86      0.85      0.83       123\n",
      "\n",
      "Confusion Matrix:\n",
      " [[21 17]\n",
      " [ 2 83]]\n"
     ]
    },
    {
     "data": {
      "text/plain": [
       "['models/best_xgb_clf_model.pkl']"
      ]
     },
     "execution_count": 20,
     "metadata": {},
     "output_type": "execute_result"
    }
   ],
   "source": [
    "best_xgb_clf = hyperparameter_tuning(xgb_clf, param_grid_xgb, X_train, y_train)\n",
    "evaluate_model(best_xgb_clf, X_test, y_test, \"Best XGBoost\")\n",
    "joblib.dump(best_xgb_clf, os.path.join('models', 'best_xgb_clf_model.pkl'))"
   ]
  },
  {
   "cell_type": "code",
   "execution_count": 21,
   "id": "e002c8b1-c16a-4217-ad86-ffe757b9dd85",
   "metadata": {},
   "outputs": [
    {
     "data": {
      "image/png": "[encoded data removed]",
      "text/plain": [
       "<Figure size 1000x800 with 1 Axes>"
      ]
     },
     "metadata": {},
     "output_type": "display_data"
    }
   ],
   "source": [
    "plt.figure(figsize=(10, 8))\n",
    "models = [(\"Best Logistic Regression\", best_log_reg), (\"Best Random Forest\", best_rf_clf), (\"Best Gradient Boosting\", best_gb_clf), (\"Best XGBoost\", best_xgb_clf)]\n",
    "for name, model in models:\n",
    "    fpr, tpr, _ = roc_curve(y_test, model.predict_proba(X_test)[:, 1])\n",
    "    plt.plot(fpr, tpr, label=f\"{name} (area = {roc_auc_score(y_test, model.predict_proba(X_test)[:, 1]):.2f})\")\n",
    "\n",
    "plt.plot([0, 1], [0, 1], 'k--')\n",
    "plt.xlim([0.0, 1.0])\n",
    "plt.ylim([0.0, 1.05])\n",
    "plt.xlabel('False Positive Rate')\n",
    "plt.ylabel('True Positive Rate')\n",
    "plt.title('Receiver Operating Characteristic')\n",
    "plt.legend(loc=\"lower right\")\n",
    "plt.show()"
   ]
  }
 ],
 "metadata": {
  "kernelspec": {
   "display_name": "Python 3 (ipykernel)",
   "language": "python",
   "name": "python3"
  },
  "language_info": {
   "codemirror_mode": {
    "name": "ipython",
    "version": 3
   },
   "file_extension": ".py",
   "mimetype": "text/x-python",
   "name": "python",
   "nbconvert_exporter": "python",
   "pygments_lexer": "ipython3",
   "version": "3.11.5"
  }
 },
 "nbformat": 4,
 "nbformat_minor": 5
}
